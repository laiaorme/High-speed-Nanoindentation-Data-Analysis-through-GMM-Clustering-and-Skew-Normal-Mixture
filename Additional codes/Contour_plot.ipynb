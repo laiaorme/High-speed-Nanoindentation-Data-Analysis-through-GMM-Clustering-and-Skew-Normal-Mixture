{
  "nbformat": 4,
  "nbformat_minor": 0,
  "metadata": {
    "colab": {
      "provenance": []
    },
    "kernelspec": {
      "name": "python3",
      "display_name": "Python 3"
    },
    "language_info": {
      "name": "python"
    }
  },
  "cells": [
    {
      "cell_type": "markdown",
      "source": [
        "# Grid Contour plot"
      ],
      "metadata": {
        "id": "Dh6_oiN5twrW"
      }
    },
    {
      "cell_type": "code",
      "source": [
        "excel = 'excel_path'"
      ],
      "metadata": {
        "id": "_Gmf8ZhWWfij"
      },
      "execution_count": null,
      "outputs": []
    },
    {
      "cell_type": "code",
      "source": [
        "import numpy as np\n",
        "import seaborn as sns\n",
        "import matplotlib.pyplot as plt\n",
        "import pandas as pd\n",
        "import matplotlib.ticker as ticker\n",
        "from scipy.interpolate import griddata\n",
        "\n",
        "df = pd.read_excel(excel, sheet_name='Test 1')\n",
        "df.dropna(subset=['HARDNESS'], inplace=True)\n",
        "df = df.iloc[1:]\n",
        "X = df[['HARDNESS']].values.reshape(-1, 1)"
      ],
      "metadata": {
        "id": "l3-zl8jzWe18"
      },
      "execution_count": null,
      "outputs": []
    },
    {
      "cell_type": "code",
      "source": [
        "# Extract the X, Y, and Z values\n",
        "X = df['X Position'].values\n",
        "Y = df['Y Position'].values\n",
        "Z1 = df['HARDNESS'].values\n",
        "Z2 = df['MODULUS'].values\n",
        "# Sort the X and Y values while keeping the corresponding Z values\n",
        "sort_indices = np.lexsort((Y, X))\n",
        "X_sorted = X[sort_indices]\n",
        "Y_sorted = Y[sort_indices]\n",
        "Z1_sorted = Z1[sort_indices]\n",
        "Z2_sorted = Z2[sort_indices]\n",
        "# Define the vmin and vmax values for each subplot\n",
        "vmin1, vmax1 = 4, 12\n",
        "vmin2, vmax2 = 130, 180\n",
        "# Generate a regular grid of points\n",
        "new_X, new_Y = np.meshgrid(np.linspace(X_sorted.min(), X_sorted.max(), 500),\n",
        "                           np.linspace(Y_sorted.min(), Y_sorted.max(), 500))\n",
        "\n",
        "# Interpolate the Z values on the regular grid using griddata\n",
        "Z1_interp = griddata((X_sorted, Y_sorted), Z1_sorted, (new_X, new_Y), method='cubic') # Try using 'nearest' for less interpolation in the heatmap\n",
        "Z2_interp = griddata((X_sorted, Y_sorted), Z2_sorted, (new_X, new_Y), method='cubic')\n",
        "# Plot the first subplot\n",
        "fig1 = plt.figure(figsize=(10, 6)) # Change figsize depending if you map is\n",
        "plt.gca().set_aspect('equal')\n",
        "Z1_matrix_clipped = np.clip(Z1_interp, vmin1, vmax1)\n",
        "levels = 50\n",
        "im1 = plt.contourf(new_X, new_Y, Z1_matrix_clipped, cmap='jet', levels=levels)\n",
        "plt.xlabel('X Position [μm]', fontsize= 20)\n",
        "plt.ylabel('Y Position [μm]', fontsize= 20)\n",
        "plt.tick_params(axis='both', which='major', labelsize=18)\n",
        "cbar1 = fig1.colorbar(im1)\n",
        "cbar1.ax.set_title('Hardness [GPa]', fontsize=20, pad=20)\n",
        "cbar1.ax.yaxis.set_label_coords(-0.1, 0.5)\n",
        "cbar1.ax.tick_params(labelsize=18)\n",
        "# Set the colorbar tick labels to display every 5 units\n",
        "from matplotlib.ticker import MultipleLocator\n",
        "tick_spacing = 1\n",
        "cbar1.ax.yaxis.set_major_locator(MultipleLocator(tick_spacing))\n",
        "# Save the first figure\n",
        "fig1.savefig('hardness_map_high_quality.png', dpi=300, bbox_inches='tight')\n",
        "\n",
        "# Plot the second subplot\n",
        "fig2 = plt.figure(figsize=(10, 6))\n",
        "plt.gca().set_aspect('equal')\n",
        "Z2_matrix_clipped = np.clip(Z2_interp, vmin2, vmax2)\n",
        "levels = 45\n",
        "im2 = plt.contourf(new_X, new_Y, Z2_matrix_clipped, cmap='jet', levels=levels)\n",
        "plt.xlabel('X Position [μm]', fontsize= 20)\n",
        "plt.ylabel('Y Position [μm]', fontsize= 20)\n",
        "plt.tick_params(axis='both', which='major', labelsize=18)\n",
        "cbar2 = fig2.colorbar(im2)\n",
        "cbar2.ax.set_title('Modulus [GPa]', fontsize= 20, pad=20)\n",
        "cbar2.ax.yaxis.set_label_coords(-0.1, 0.5)\n",
        "cbar2.ax.tick_params(labelsize=18)\n",
        "# Set the colorbar tick labels to display every 5 units\n",
        "from matplotlib.ticker import MultipleLocator\n",
        "tick_spacing = 10\n",
        "cbar2.ax.yaxis.set_major_locator(MultipleLocator(tick_spacing))\n",
        "# Save the second figure\n",
        "fig2.savefig('modulus_map_high_quality.png', dpi=300, bbox_inches='tight')"
      ],
      "metadata": {
        "id": "F5pQOLo0WJmb"
      },
      "execution_count": null,
      "outputs": []
    },
    {
      "cell_type": "code",
      "source": [
        "import seaborn as sns\n",
        "import numpy as np\n",
        "import matplotlib.pyplot as plt\n",
        "import pandas as pd\n",
        "\n",
        "\n",
        "df = pd.read_excel('/content/WCNiFine-4D-80nm-150x150_filtered.xlsx', sheet_name='Sheet1')\n",
        "\n",
        "df = df.astype(float)\n",
        "H = df['HARDNESS'].values.astype(float)\n",
        "E = df['MODULUS'].values.astype(float)\n",
        "\n",
        "plt.figure(figsize=(15, 15))  # Ajust\n",
        "\n",
        "# Generate the joint plot\n",
        "g = sns.jointplot(x=H, y=E, kind=\"scatter\", color='dodgerblue', s=2, marginal_kws=dict(bins=50))\n",
        "\n",
        "# Set limits on the axes\n",
        "g.ax_joint.set_xlim(0, 45)  # Ajust\n",
        "g.ax_joint.set_ylim(100, 800)  # Ajust\n",
        "\n",
        "g.ax_joint.set_xlabel('Hardness [GPa]', fontsize=20)\n",
        "g.ax_joint.set_ylabel('Modulus [GPa]', fontsize=20)\n",
        "g.ax_joint.tick_params(axis='both', which='major', labelsize=18, width=2)\n",
        "g.ax_joint.tick_params(axis='both', which='minor', labelsize=16, width=1.5)\n",
        "\n",
        "plt.show()"
      ],
      "metadata": {
        "id": "5m4rhLxDefy0"
      },
      "execution_count": null,
      "outputs": []
    }
  ]
}